{
  "nbformat": 4,
  "nbformat_minor": 0,
  "metadata": {
    "colab": {
      "provenance": [],
      "include_colab_link": true
    },
    "kernelspec": {
      "name": "python3",
      "display_name": "Python 3"
    },
    "language_info": {
      "name": "python"
    }
  },
  "cells": [
    {
      "cell_type": "markdown",
      "metadata": {
        "id": "view-in-github",
        "colab_type": "text"
      },
      "source": [
        "<a href=\"https://colab.research.google.com/github/M-Arashi/SASA-DS/blob/main/University_admission.ipynb\" target=\"_parent\"><img src=\"https://colab.research.google.com/assets/colab-badge.svg\" alt=\"Open In Colab\"/></a>"
      ]
    },
    {
      "cell_type": "code",
      "execution_count": 2,
      "metadata": {
        "colab": {
          "base_uri": "https://localhost:8080/"
        },
        "id": "x6WdmFtiBlef",
        "outputId": "def33463-865d-4cce-daf8-931442376d63"
      },
      "outputs": [
        {
          "output_type": "stream",
          "name": "stdout",
          "text": [
            "   admit  gre   gpa  rank\n",
            "0      0  380  3.61     3\n",
            "1      1  660  3.67     3\n",
            "2      1  800  4.00     1\n",
            "3      1  640  3.19     4\n",
            "4      0  520  2.93     4\n",
            "<class 'pandas.core.frame.DataFrame'>\n",
            "RangeIndex: 400 entries, 0 to 399\n",
            "Data columns (total 4 columns):\n",
            " #   Column  Non-Null Count  Dtype  \n",
            "---  ------  --------------  -----  \n",
            " 0   admit   400 non-null    int64  \n",
            " 1   gre     400 non-null    int64  \n",
            " 2   gpa     400 non-null    float64\n",
            " 3   rank    400 non-null    int64  \n",
            "dtypes: float64(1), int64(3)\n",
            "memory usage: 12.6 KB\n",
            "None\n",
            "Training Accuracy: 0.7214285714285714\n",
            "Test Accuracy: 0.6083333333333333\n",
            "Confusion Matrix (Training):\n",
            "[[202   0]\n",
            " [ 78   0]]\n",
            "Confusion Matrix (Test):\n",
            "[[71  0]\n",
            " [47  2]]\n"
          ]
        }
      ],
      "source": [
        "import pandas as pd\n",
        "from sklearn.model_selection import train_test_split\n",
        "from sklearn.neural_network import MLPClassifier\n",
        "from sklearn.metrics import confusion_matrix, accuracy_score\n",
        "\n",
        "# Download the data\n",
        "url = \"https://raw.githubusercontent.com/M-Arashi/DataMining-Python/master/binary.csv\"\n",
        "data = pd.read_csv(url)\n",
        "\n",
        "# View the data\n",
        "print(data.head())\n",
        "print(data.info())\n",
        "\n",
        "# Normalize the data\n",
        "data['gre'] = (data['gre'] - data['gre'].min()) / (data['gre'].max() - data['gre'].min())\n",
        "data['gpa'] = (data['gpa'] - data['gpa'].min()) / (data['gpa'].max() - data['gpa'].min())\n",
        "data['rank'] = (data['rank'] - data['rank'].min()) / (data['rank'].max() - data['rank'].min())\n",
        "\n",
        "# Split the data into training and test sets\n",
        "X = data[['gre', 'gpa', 'rank']]\n",
        "y = data['admit']\n",
        "X_train, X_test, y_train, y_test = train_test_split(X, y, test_size=0.3, random_state=222)\n",
        "\n",
        "# Fit the neural network\n",
        "clf = MLPClassifier(hidden_layer_sizes=(5,), random_state=333, max_iter=100000)\n",
        "clf.fit(X_train, y_train)\n",
        "\n",
        "# Evaluate the model\n",
        "y_pred_train = clf.predict(X_train)\n",
        "y_pred_test = clf.predict(X_test)\n",
        "\n",
        "print(\"Training Accuracy:\", accuracy_score(y_train, y_pred_train))\n",
        "print(\"Test Accuracy:\", accuracy_score(y_test, y_pred_test))\n",
        "\n",
        "# Confusion matrix\n",
        "print(\"Confusion Matrix (Training):\")\n",
        "print(confusion_matrix(y_train, y_pred_train))\n",
        "\n",
        "print(\"Confusion Matrix (Test):\")\n",
        "print(confusion_matrix(y_test, y_pred_test))"
      ]
    }
  ]
}