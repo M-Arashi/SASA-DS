{
  "nbformat": 4,
  "nbformat_minor": 0,
  "metadata": {
    "colab": {
      "provenance": []
    },
    "kernelspec": {
      "name": "python3",
      "display_name": "Python 3"
    },
    "language_info": {
      "name": "python"
    }
  },
  "cells": [
    {
      "cell_type": "code",
      "execution_count": null,
      "metadata": {
        "id": "QphNVMM1wAV6"
      },
      "outputs": [],
      "source": [
        "import numpy as np\n",
        "def sigmoid(x):\n",
        "    return 1 / (1 + np.exp(-x))\n",
        "input_hidden_weights = np.array([[0.15, 0.2],\n",
        "                                  [0.25, 0.3]])\n",
        "\n",
        "hidden_output_weights = np.array([[0.4, 0.45],\n",
        "                                  [0.55, 0.6]])"
      ]
    },
    {
      "cell_type": "code",
      "source": [
        "print(hidden_output_weights)"
      ],
      "metadata": {
        "colab": {
          "base_uri": "https://localhost:8080/"
        },
        "id": "ZLNHOznbwu19",
        "outputId": "d0139931-990f-400e-a254-359d90de8c96"
      },
      "execution_count": null,
      "outputs": [
        {
          "output_type": "stream",
          "name": "stdout",
          "text": [
            "[[0.4  0.45]\n",
            " [0.55 0.6 ]]\n"
          ]
        }
      ]
    },
    {
      "cell_type": "code",
      "source": [
        "print(input_hidden_weights)"
      ],
      "metadata": {
        "colab": {
          "base_uri": "https://localhost:8080/"
        },
        "id": "F3XLDISjwzYf",
        "outputId": "2d343563-d18f-4f0d-a989-cf928633ea92"
      },
      "execution_count": null,
      "outputs": [
        {
          "output_type": "stream",
          "name": "stdout",
          "text": [
            "[[0.15 0.2 ]\n",
            " [0.25 0.3 ]]\n"
          ]
        }
      ]
    },
    {
      "cell_type": "code",
      "source": [
        "X = np.array([[0.05],\n",
        "              [0.1]])\n",
        "print(X)"
      ],
      "metadata": {
        "colab": {
          "base_uri": "https://localhost:8080/"
        },
        "id": "RSF3nC18w5O0",
        "outputId": "7a442e8f-3e71-43dc-ba55-58656eaccde8"
      },
      "execution_count": null,
      "outputs": [
        {
          "output_type": "stream",
          "name": "stdout",
          "text": [
            "[[0.05]\n",
            " [0.1 ]]\n"
          ]
        }
      ]
    },
    {
      "cell_type": "code",
      "source": [
        "b1 = np.array([[0.35],\n",
        "              [0.35]])\n",
        "\n",
        "b2 = np.array([[0.6],\n",
        "              [0.6]])"
      ],
      "metadata": {
        "id": "BsDcS6XLx2co"
      },
      "execution_count": null,
      "outputs": []
    },
    {
      "cell_type": "code",
      "source": [
        "hidden_layer_input = np.dot(input_hidden_weights,X) + b1\n",
        "hidden_layer_output = sigmoid(hidden_layer_input)\n",
        "\n",
        "output_layer_input = np.dot(hidden_output_weights,hidden_layer_output) + b2\n",
        "predicted_output = sigmoid(output_layer_input)\n",
        "\n",
        "print(\"Hidden Layer Calculations:\")\n",
        "print(\"Hidden Layer Input:\")\n",
        "print(hidden_layer_input)\n",
        "print(\"\\nHidden Layer Output:\")\n",
        "print(hidden_layer_output)\n",
        "\n",
        "print(\"\\nOutput Layer Calculations:\")\n",
        "print(\"Output Layer Input:\")\n",
        "print(output_layer_input)\n",
        "print(\"\\nPredicted Output:\")\n",
        "print(predicted_output)"
      ],
      "metadata": {
        "colab": {
          "base_uri": "https://localhost:8080/"
        },
        "id": "riMmjavEyJJU",
        "outputId": "cab703d8-a322-402c-9053-e6c23659a0e7"
      },
      "execution_count": null,
      "outputs": [
        {
          "output_type": "stream",
          "name": "stdout",
          "text": [
            "Hidden Layer Calculations:\n",
            "Hidden Layer Input:\n",
            "[[0.3775]\n",
            " [0.3925]]\n",
            "\n",
            "Hidden Layer Output:\n",
            "[[0.5932699921]\n",
            " [0.5968843783]]\n",
            "\n",
            "Output Layer Calculations:\n",
            "Output Layer Input:\n",
            "[[1.1059059671]\n",
            " [1.2844291226]]\n",
            "\n",
            "Predicted Output:\n",
            "[[0.7513650696]\n",
            " [0.7832027679]]\n"
          ]
        }
      ]
    }
  ]
}